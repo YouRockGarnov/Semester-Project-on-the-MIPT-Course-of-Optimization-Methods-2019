{
 "cells": [
  {
   "cell_type": "markdown",
   "metadata": {
    "pycharm": {}
   },
   "source": [
    "# Проект по Методам Оптимизации\n",
    "##### Участники: _Вихрев Евгений, Родионов Дмитрий, Гарнов Юрий_"
   ]
  },
  {
   "cell_type": "markdown",
   "metadata": {
    "pycharm": {}
   },
   "source": [
    "### Проблема\n",
    "\n",
    "Требуется минимизировать ранг частично заполненой матрицы.\n",
    "\n",
    "$E \\subset N \\times N$ - Множество наблюдаемых значений. \\\n",
    "$M \\in Mat_{n,m}$ - Наблюдаемые значения (Б.О.О. $n > m$).\n",
    "\n",
    "$$ \\min_X rank(X),\\ subject\\ to\\ X_{i,j} = M_{i,j} \\  \\  \\forall i, j \\in E $$\n",
    "$$\\text{Where } X \\in Mat_{n,m},\\ n > m \\ \\ \\&\\ \\  r << n$$\n",
    "\n",
    "Это NP-трудная задача. Но с некоторыми предположения её можно решить с высокой точностью."
   ]
  },
  {
   "cell_type": "code",
   "execution_count": 18,
   "metadata": {
    "pycharm": {
     "is_executing": false
    }
   },
   "outputs": [],
   "source": [
    "import numpy as np\n",
    "import scipy.stats as sps\n",
    "import matplotlib.pyplot as plt\n",
    "from als_minimization import als_minimization\n",
    "from conv_relax import nuclear_norm_minimalization\n"
   ]
  },
  {
   "cell_type": "code",
   "execution_count": 19,
   "metadata": {
    "pycharm": {
     "is_executing": false
    }
   },
   "outputs": [],
   "source": [
    "def create_case(N=100, M=100, est=1000, mode=\"norm\"):\n",
    "    if mode == \"norm\":\n",
    "        A = np.random.randn(N, M)\n",
    "    elif mode == \"linear\":\n",
    "        A = sps.randint.rvs(low=-10, high=10, size=(N, M))\n",
    "    mask = sps.bernoulli.rvs(est/(N*M), size=(N, M))\n",
    "    return A, mask"
   ]
  },
  {
   "cell_type": "code",
   "execution_count": 20,
   "metadata": {
    "pycharm": {}
   },
   "outputs": [],
   "source": [
    "def test_als(runs=5, K=50, est=1000):\n",
    "    \"\"\"\n",
    "    Dimentions of the test matrix is 100x100.\n",
    "    \"\"\"\n",
    "    epsilon = 1e-6\n",
    "    mu = 1e-6\n",
    "    N, M = 100, 100\n",
    "\n",
    "    rank = np.zeros(K)\n",
    "    max_distance = np.zeros(K)\n",
    "\n",
    "    for k in range(1, K + 1):\n",
    "        local_rank = np.zeros(runs)\n",
    "        local_max_distance = np.zeros(runs)\n",
    "        for i in range(runs):\n",
    "            A, mask = create_case(N, M, est)\n",
    "            X = als_minimization(A, mask, k=k, mu=mu, epsilon=epsilon)\n",
    "            local_rank[i] = np.linalg.matrix_rank(X)\n",
    "            local_max_distance[i] = np.max(np.abs(np.multiply(X, mask) - np.multiply(A, mask)))\n",
    "        rank[k-1] = local_rank.mean()\n",
    "        max_distance[k-1] = local_max_distance.mean()\n",
    "\n",
    "    plt.figure(figsize=(10,5), dpi=100)\n",
    "    plt.plot(np.arange(0, K), rank, label=r'estimated rank')\n",
    "    plt.plot(np.arange(0, K), max_distance, label=r'estimated max variation')\n",
    "    plt.legend()\n",
    "    plt.show()\n",
    "\n",
    "    plt.figure(figsize=(10,5), dpi=100)\n",
    "    plt.plot(np.arange(5, K), max_distance[5:], label=r'estimated max variation')\n",
    "    plt.legend()\n",
    "    plt.show()\n",
    "    "
   ]
  },
  {
   "cell_type": "code",
   "execution_count": 1,
   "metadata": {
    "pycharm": {
     "is_executing": false
    }
   },
   "outputs": [
    {
     "ename": "NameError",
     "evalue": "name 'test_als' is not defined",
     "output_type": "error",
     "traceback": [
      "\u001b[1;31m---------------------------------------------------------------------------\u001b[0m",
      "\u001b[1;31mNameError\u001b[0m                                 Traceback (most recent call last)",
      "\u001b[1;32m<ipython-input-1-261b1e9d55f0>\u001b[0m in \u001b[0;36m<module>\u001b[1;34m\u001b[0m\n\u001b[1;32m----> 1\u001b[1;33m \u001b[0mtest_als\u001b[0m\u001b[1;33m(\u001b[0m\u001b[1;33m)\u001b[0m\u001b[1;33m\u001b[0m\u001b[1;33m\u001b[0m\u001b[0m\n\u001b[0m",
      "\u001b[1;31mNameError\u001b[0m: name 'test_als' is not defined"
     ]
    }
   ],
   "source": [
    "test_als()"
   ]
  },
  {
   "cell_type": "markdown",
   "metadata": {
    "pycharm": {}
   },
   "source": [
    "Как мы видим _ранг_ возвращаемой алгоритмом натрицы тождественно равна $k$ до $k \\sim 35$, после чего значение стабилизуется.\n",
    "\n",
    "Также, видим что  $max_{i,j \\in E} |X_{i,j}-A_{i,j}|$ - максимальный модуль разности $(>Var(X_{i,j}-A_{i,j}\\ \\ where\\ \\ i,j \\in E))$, в начале имеет большое значение $\\sim 3$, но быстро стабилизируется в нуле. Можно считать, что $\\min_X rank(X) = min_k (max\\_distance_k \\sim 0)$. \n",
    "\n",
    "Для матриц из теста это $\\sim 8$ или $9$.\n",
    "\n"
   ]
  },
  {
   "cell_type": "markdown",
   "metadata": {
    "pycharm": {
     "name": "#%% md\n"
    }
   },
   "source": [
    "# Convex relaxation\n",
    "**Ядерная форма**\n",
    "\n",
    "Идея следующая - давайте будем минимизировать не ранк матрицы, а ей ядерную норму.\n",
    "\n",
    "Если мы приведем матрицу в ядерную форму, то она будет выглядеть следующим образом\n",
    "\n",
    "$ x = U S V^* = \\sum_{i=0}^{n-1} s_i u_i v_i^*$\n",
    "\n",
    "где $S = diag(s_i)_i$ это диагональная матрица сингулярных значений.\n",
    "\n",
    "$ s_0 \\geq \\ldots s_{r-1} &gt; 0 \\space and \\space\n",
    "            \\forall i \\geq r, \\: s_i=0 $\n",
    "            \n",
    "$where \\space r=rank(x)$\n"
   ]
  },
  {
   "cell_type": "markdown",
   "metadata": {
    "pycharm": {
     "metadata": false,
     "name": "#%% md\n"
    }
   },
   "source": [
    "**Ядерная норма**\n",
    "\n",
    "${\\displaystyle \\|A\\|_{*}=\\operatorname {trace} \\left({\\sqrt {A^{*}A}}\\right)=\\sum _{i=1}^{\\min\\{m,n\\}}\\sigma _{i}(A),}$\n",
    "\n",
    "$\\sqrt {A^{*}A}$ - положительная полуопределённая матрица B, т.ч. $BB = AA^*$\n",
    "\n",
    "Ядерная норма является выпуклой (вниз) оболочкой $rank(x)$ и соответственно $min$\n",
    "ядерная формы будет совпадать с $min(rank)$\n"
   ]
  },
  {
   "cell_type": "code",
   "execution_count": 21,
   "metadata": {
    "pycharm": {
     "is_executing": false,
     "metadata": false,
     "name": "#%%\n"
    }
   },
   "outputs": [
    {
     "name": "stdout",
     "output_type": "stream",
     "text": [
      "FATAL: Cannot solve SDPs with > 2x2 matrices without linked blas+lapack libraries\n",
      "Install blas+lapack and re-compile SCS with blas+lapack libray locations\n",
      "ERROR: init_cone failure\n",
      "Failure:could not initialize work\n"
     ]
    },
    {
     "ename": "SolverError",
     "evalue": "Solver 'SCS' failed. Try another solver, or solve with verbose=True for more information.",
     "output_type": "error",
     "traceback": [
      "\u001b[1;31m---------------------------------------------------------------------------\u001b[0m",
      "\u001b[1;31mSolverError\u001b[0m                               Traceback (most recent call last)",
      "\u001b[1;32m<ipython-input-21-b89de432f441>\u001b[0m in \u001b[0;36m<module>\u001b[1;34m\u001b[0m\n\u001b[0;32m     11\u001b[0m     \u001b[1;31m#     A, mask = create_case(N, M)\u001b[0m\u001b[1;33m\u001b[0m\u001b[1;33m\u001b[0m\u001b[1;33m\u001b[0m\u001b[0m\n\u001b[0;32m     12\u001b[0m \u001b[1;33m\u001b[0m\u001b[0m\n\u001b[1;32m---> 13\u001b[1;33m \u001b[0mcompare_methods\u001b[0m\u001b[1;33m(\u001b[0m\u001b[1;33m)\u001b[0m\u001b[1;33m\u001b[0m\u001b[1;33m\u001b[0m\u001b[0m\n\u001b[0m\u001b[0;32m     14\u001b[0m \u001b[1;33m\u001b[0m\u001b[0m\n",
      "\u001b[1;32m<ipython-input-21-b89de432f441>\u001b[0m in \u001b[0;36mcompare_methods\u001b[1;34m()\u001b[0m\n\u001b[0;32m      6\u001b[0m \u001b[1;33m\u001b[0m\u001b[0m\n\u001b[0;32m      7\u001b[0m     \u001b[0mA\u001b[0m\u001b[1;33m,\u001b[0m \u001b[0mmask\u001b[0m \u001b[1;33m=\u001b[0m \u001b[0mcreate_case\u001b[0m\u001b[1;33m(\u001b[0m\u001b[0mN\u001b[0m\u001b[1;33m,\u001b[0m \u001b[0mM\u001b[0m\u001b[1;33m)\u001b[0m\u001b[1;33m\u001b[0m\u001b[1;33m\u001b[0m\u001b[0m\n\u001b[1;32m----> 8\u001b[1;33m     \u001b[0mprint\u001b[0m\u001b[1;33m(\u001b[0m\u001b[0mnuclear_norm_minimalization\u001b[0m\u001b[1;33m(\u001b[0m\u001b[0mA\u001b[0m\u001b[1;33m,\u001b[0m \u001b[0mmask\u001b[0m\u001b[1;33m)\u001b[0m\u001b[1;33m)\u001b[0m\u001b[1;33m\u001b[0m\u001b[1;33m\u001b[0m\u001b[0m\n\u001b[0m\u001b[0;32m      9\u001b[0m     \u001b[1;31m#\u001b[0m\u001b[1;33m\u001b[0m\u001b[1;33m\u001b[0m\u001b[1;33m\u001b[0m\u001b[0m\n\u001b[0;32m     10\u001b[0m     \u001b[1;31m# for i in range(test_count):\u001b[0m\u001b[1;33m\u001b[0m\u001b[1;33m\u001b[0m\u001b[1;33m\u001b[0m\u001b[0m\n",
      "\u001b[1;32m~\\PycharmProjects\\metopt\\algorithms\\conv_relax.py\u001b[0m in \u001b[0;36mnuclear_norm_minimalization\u001b[1;34m(A, mask, value_protection_coefficient, decimals)\u001b[0m\n\u001b[0;32m     25\u001b[0m     \u001b[0mobjective\u001b[0m \u001b[1;33m=\u001b[0m \u001b[0mMinimize\u001b[0m\u001b[1;33m(\u001b[0m\u001b[0mnorm\u001b[0m\u001b[1;33m(\u001b[0m\u001b[0mX\u001b[0m\u001b[1;33m,\u001b[0m \u001b[1;34m\"nuc\"\u001b[0m\u001b[1;33m)\u001b[0m \u001b[1;33m+\u001b[0m \u001b[0mvalue_protection_coefficient\u001b[0m \u001b[1;33m*\u001b[0m \u001b[0msum_squares\u001b[0m\u001b[1;33m(\u001b[0m\u001b[0mmultiply\u001b[0m\u001b[1;33m(\u001b[0m\u001b[0mmask\u001b[0m\u001b[1;33m,\u001b[0m \u001b[0mX\u001b[0m \u001b[1;33m-\u001b[0m \u001b[0mA\u001b[0m\u001b[1;33m)\u001b[0m\u001b[1;33m)\u001b[0m\u001b[1;33m)\u001b[0m\u001b[1;33m\u001b[0m\u001b[1;33m\u001b[0m\u001b[0m\n\u001b[0;32m     26\u001b[0m     \u001b[0mproblem\u001b[0m \u001b[1;33m=\u001b[0m \u001b[0mProblem\u001b[0m\u001b[1;33m(\u001b[0m\u001b[0mobjective\u001b[0m\u001b[1;33m,\u001b[0m \u001b[1;33m[\u001b[0m\u001b[1;33m]\u001b[0m\u001b[1;33m)\u001b[0m\u001b[1;33m\u001b[0m\u001b[1;33m\u001b[0m\u001b[0m\n\u001b[1;32m---> 27\u001b[1;33m     \u001b[0mproblem\u001b[0m\u001b[1;33m.\u001b[0m\u001b[0msolve\u001b[0m\u001b[1;33m(\u001b[0m\u001b[0msolver\u001b[0m\u001b[1;33m=\u001b[0m\u001b[0mSCS\u001b[0m\u001b[1;33m)\u001b[0m\u001b[1;33m\u001b[0m\u001b[1;33m\u001b[0m\u001b[0m\n\u001b[0m\u001b[0;32m     28\u001b[0m     \u001b[1;32mreturn\u001b[0m \u001b[0mfloor_singular_values\u001b[0m\u001b[1;33m(\u001b[0m\u001b[0mX\u001b[0m\u001b[1;33m.\u001b[0m\u001b[0mvalue\u001b[0m\u001b[1;33m,\u001b[0m \u001b[0mdecimals\u001b[0m\u001b[1;33m)\u001b[0m\u001b[1;33m\u001b[0m\u001b[1;33m\u001b[0m\u001b[0m\n\u001b[0;32m     29\u001b[0m \u001b[1;33m\u001b[0m\u001b[0m\n",
      "\u001b[1;32mc:\\program files (x86)\\python37-32\\lib\\site-packages\\cvxpy\\problems\\problem.py\u001b[0m in \u001b[0;36msolve\u001b[1;34m(self, *args, **kwargs)\u001b[0m\n\u001b[0;32m    287\u001b[0m         \u001b[1;32melse\u001b[0m\u001b[1;33m:\u001b[0m\u001b[1;33m\u001b[0m\u001b[1;33m\u001b[0m\u001b[0m\n\u001b[0;32m    288\u001b[0m             \u001b[0msolve_func\u001b[0m \u001b[1;33m=\u001b[0m \u001b[0mProblem\u001b[0m\u001b[1;33m.\u001b[0m\u001b[0m_solve\u001b[0m\u001b[1;33m\u001b[0m\u001b[1;33m\u001b[0m\u001b[0m\n\u001b[1;32m--> 289\u001b[1;33m         \u001b[1;32mreturn\u001b[0m \u001b[0msolve_func\u001b[0m\u001b[1;33m(\u001b[0m\u001b[0mself\u001b[0m\u001b[1;33m,\u001b[0m \u001b[1;33m*\u001b[0m\u001b[0margs\u001b[0m\u001b[1;33m,\u001b[0m \u001b[1;33m**\u001b[0m\u001b[0mkwargs\u001b[0m\u001b[1;33m)\u001b[0m\u001b[1;33m\u001b[0m\u001b[1;33m\u001b[0m\u001b[0m\n\u001b[0m\u001b[0;32m    290\u001b[0m \u001b[1;33m\u001b[0m\u001b[0m\n\u001b[0;32m    291\u001b[0m     \u001b[1;33m@\u001b[0m\u001b[0mclassmethod\u001b[0m\u001b[1;33m\u001b[0m\u001b[1;33m\u001b[0m\u001b[0m\n",
      "\u001b[1;32mc:\\program files (x86)\\python37-32\\lib\\site-packages\\cvxpy\\problems\\problem.py\u001b[0m in \u001b[0;36m_solve\u001b[1;34m(self, solver, warm_start, verbose, parallel, gp, qcp, **kwargs)\u001b[0m\n\u001b[0;32m    572\u001b[0m         \u001b[0mfull_chain\u001b[0m \u001b[1;33m=\u001b[0m \u001b[0mself\u001b[0m\u001b[1;33m.\u001b[0m\u001b[0m_solving_chain\u001b[0m\u001b[1;33m.\u001b[0m\u001b[0mprepend\u001b[0m\u001b[1;33m(\u001b[0m\u001b[0mself\u001b[0m\u001b[1;33m.\u001b[0m\u001b[0m_intermediate_chain\u001b[0m\u001b[1;33m)\u001b[0m\u001b[1;33m\u001b[0m\u001b[1;33m\u001b[0m\u001b[0m\n\u001b[0;32m    573\u001b[0m         \u001b[0minverse_data\u001b[0m \u001b[1;33m=\u001b[0m \u001b[0mself\u001b[0m\u001b[1;33m.\u001b[0m\u001b[0m_intermediate_inverse_data\u001b[0m \u001b[1;33m+\u001b[0m \u001b[0msolving_inverse_data\u001b[0m\u001b[1;33m\u001b[0m\u001b[1;33m\u001b[0m\u001b[0m\n\u001b[1;32m--> 574\u001b[1;33m         \u001b[0mself\u001b[0m\u001b[1;33m.\u001b[0m\u001b[0munpack_results\u001b[0m\u001b[1;33m(\u001b[0m\u001b[0msolution\u001b[0m\u001b[1;33m,\u001b[0m \u001b[0mfull_chain\u001b[0m\u001b[1;33m,\u001b[0m \u001b[0minverse_data\u001b[0m\u001b[1;33m)\u001b[0m\u001b[1;33m\u001b[0m\u001b[1;33m\u001b[0m\u001b[0m\n\u001b[0m\u001b[0;32m    575\u001b[0m         \u001b[1;32mreturn\u001b[0m \u001b[0mself\u001b[0m\u001b[1;33m.\u001b[0m\u001b[0mvalue\u001b[0m\u001b[1;33m\u001b[0m\u001b[1;33m\u001b[0m\u001b[0m\n\u001b[0;32m    576\u001b[0m \u001b[1;33m\u001b[0m\u001b[0m\n",
      "\u001b[1;32mc:\\program files (x86)\\python37-32\\lib\\site-packages\\cvxpy\\problems\\problem.py\u001b[0m in \u001b[0;36munpack_results\u001b[1;34m(self, solution, chain, inverse_data)\u001b[0m\n\u001b[0;32m    715\u001b[0m             raise error.SolverError(\n\u001b[0;32m    716\u001b[0m                     \u001b[1;34m\"Solver '%s' failed. \"\u001b[0m \u001b[1;33m%\u001b[0m \u001b[0mchain\u001b[0m\u001b[1;33m.\u001b[0m\u001b[0msolver\u001b[0m\u001b[1;33m.\u001b[0m\u001b[0mname\u001b[0m\u001b[1;33m(\u001b[0m\u001b[1;33m)\u001b[0m \u001b[1;33m+\u001b[0m\u001b[1;33m\u001b[0m\u001b[1;33m\u001b[0m\u001b[0m\n\u001b[1;32m--> 717\u001b[1;33m                     \u001b[1;34m\"Try another solver, or solve with verbose=True for more \"\u001b[0m\u001b[1;33m\u001b[0m\u001b[1;33m\u001b[0m\u001b[0m\n\u001b[0m\u001b[0;32m    718\u001b[0m                     \"information.\")\n\u001b[0;32m    719\u001b[0m         \u001b[0mself\u001b[0m\u001b[1;33m.\u001b[0m\u001b[0munpack\u001b[0m\u001b[1;33m(\u001b[0m\u001b[0msolution\u001b[0m\u001b[1;33m)\u001b[0m\u001b[1;33m\u001b[0m\u001b[1;33m\u001b[0m\u001b[0m\n",
      "\u001b[1;31mSolverError\u001b[0m: Solver 'SCS' failed. Try another solver, or solve with verbose=True for more information."
     ]
    }
   ],
   "source": [
    "def compare_methods():\n",
    "    results = [[]]\n",
    "    N=100\n",
    "    M=100\n",
    "    test_count = 1000\n",
    "    \n",
    "    A, mask = create_case(N, M)\n",
    "    print(nuclear_norm_minimalization(A, mask))\n",
    "    # \n",
    "    # for i in range(test_count):\n",
    "    #     A, mask = create_case(N, M)\n",
    "    \n",
    "compare_methods()\n",
    "        "
   ]
  }
 ],
 "metadata": {
  "kernelspec": {
   "display_name": "Python 3",
   "language": "python",
   "name": "python3"
  },
  "language_info": {
   "codemirror_mode": {
    "name": "ipython",
    "version": 3
   },
   "file_extension": ".py",
   "mimetype": "text/x-python",
   "name": "python",
   "nbconvert_exporter": "python",
   "pygments_lexer": "ipython3",
   "version": "3.7.3"
  }
 },
 "nbformat": 4,
 "nbformat_minor": 2
}
