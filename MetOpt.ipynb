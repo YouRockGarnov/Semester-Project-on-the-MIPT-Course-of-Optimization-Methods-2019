{
  "nbformat": 4,
  "nbformat_minor": 0,
  "metadata": {
    "kernelspec": {
      "name": "python3",
      "display_name": "Python 3"
    },
    "language_info": {
      "codemirror_mode": {
        "name": "ipython",
        "version": 3
      },
      "file_extension": ".py",
      "mimetype": "text/x-python",
      "name": "python",
      "nbconvert_exporter": "python",
      "pygments_lexer": "ipython3",
      "version": "3.7.4"
    },
    "colab": {
      "name": "MetOpt.ipynb",
      "provenance": [],
      "collapsed_sections": []
    },
    "accelerator": "GPU"
  },
  "cells": [
    {
      "cell_type": "markdown",
      "metadata": {
        "pycharm": {},
        "id": "K2gLmnLxBLAa",
        "colab_type": "text"
      },
      "source": [
        "# Проект по Методам Оптимизации\n",
        "##### Участники: _Вихрев Евгений, Родионов Дмитрий, Гарнов Юрий_"
      ]
    },
    {
      "cell_type": "markdown",
      "metadata": {
        "pycharm": {},
        "id": "6Xncu95OBLAe",
        "colab_type": "text"
      },
      "source": [
        "### Проблема\n",
        "\n",
        "Требуется минимизировать ранг частично заполненой матрицы.\n",
        "\n",
        "$E \\subset N \\times N$ - Множество наблюдаемых значений. \\\n",
        "$M \\in Mat_{n,m}$ - Наблюдаемые значения (Б.О.О. $n > m$).\n",
        "\n",
        "$$ \\min_X rank(X),\\ subject\\ to\\ X_{i,j} = M_{i,j} \\  \\  \\forall i, j \\in E $$\n",
        "$$\\text{Where } X \\in Mat_{n,m},\\ n > m \\ \\ \\&\\ \\  r << n$$\n",
        "\n",
        "Это NP-трудная задача. Но с некоторыми предположения её можно решить с высокой точностью."
      ]
    },
    {
      "cell_type": "code",
      "metadata": {
        "pycharm": {
          "is_executing": false
        },
        "id": "NRl0dj_vBLAg",
        "colab_type": "code",
        "colab": {}
      },
      "source": [
        "import numpy as np\n",
        "import scipy.stats as sps\n",
        "import matplotlib.pyplot as plt\n"
      ],
      "execution_count": 0,
      "outputs": []
    },
    {
      "cell_type": "code",
      "metadata": {
        "pycharm": {
          "is_executing": false
        },
        "id": "cA7oMk0EBLAm",
        "colab_type": "code",
        "colab": {}
      },
      "source": [
        "def create_case(N=100, M=100, est=1000, mode=\"norm\"):\n",
        "    if mode == \"norm\":\n",
        "        A = np.random.randn(N, M)\n",
        "    elif mode == \"linear\":\n",
        "        A = sps.randint.rvs(low=-10, high=10, size=(N, M))\n",
        "    mask = sps.bernoulli.rvs(est/(N*M), size=(N, M))\n",
        "    return A, mask"
      ],
      "execution_count": 0,
      "outputs": []
    },
    {
      "cell_type": "code",
      "metadata": {
        "pycharm": {},
        "id": "hDUf3rD7BLAr",
        "colab_type": "code",
        "colab": {}
      },
      "source": [
        "def test_als(runs=5, K=50, est=1000):\n",
        "    \"\"\"\n",
        "    Dimentions of the test matrix is 100x100.\n",
        "    \"\"\"\n",
        "    epsilon = 1e-6\n",
        "    mu = 1e-6\n",
        "    N, M = 100, 100\n",
        "\n",
        "    rank = np.zeros(K)\n",
        "    max_distance = np.zeros(K)\n",
        "\n",
        "    for k in range(1, K + 1):\n",
        "        local_rank = np.zeros(runs)\n",
        "        local_max_distance = np.zeros(runs)\n",
        "        for i in range(runs):\n",
        "            A, mask = create_case(N, M, est)\n",
        "            X = als_minimization(A, mask, k=k, mu=mu, epsilon=epsilon)\n",
        "            local_rank[i] = np.linalg.matrix_rank(X)\n",
        "            local_max_distance[i] = np.max(np.abs(np.multiply(X, mask) - np.multiply(A, mask)))\n",
        "        rank[k-1] = local_rank.mean()\n",
        "        max_distance[k-1] = local_max_distance.mean()\n",
        "\n",
        "    plt.figure(figsize=(10,5), dpi=100)\n",
        "    plt.plot(np.arange(0, K), rank, label=r'estimated rank')\n",
        "    plt.plot(np.arange(0, K), max_distance, label=r'estimated max variation')\n",
        "    plt.legend()\n",
        "    plt.show()\n",
        "\n",
        "    plt.figure(figsize=(10,5), dpi=100)\n",
        "    plt.plot(np.arange(5, K), max_distance[5:], label=r'estimated max variation')\n",
        "    plt.legend()\n",
        "    plt.show()\n",
        "    "
      ],
      "execution_count": 0,
      "outputs": []
    },
    {
      "cell_type": "code",
      "metadata": {
        "pycharm": {
          "is_executing": false
        },
        "id": "IjUzfb58BLAx",
        "colab_type": "code",
        "outputId": "70702ff7-8919-48a0-cd34-9332b583bdfc",
        "colab": {}
      },
      "source": [
        "test_als()"
      ],
      "execution_count": 0,
      "outputs": [
        {
          "output_type": "error",
          "ename": "NameError",
          "evalue": "name 'test_als' is not defined",
          "traceback": [
            "\u001b[1;31m---------------------------------------------------------------------------\u001b[0m",
            "\u001b[1;31mNameError\u001b[0m                                 Traceback (most recent call last)",
            "\u001b[1;32m<ipython-input-1-261b1e9d55f0>\u001b[0m in \u001b[0;36m<module>\u001b[1;34m\u001b[0m\n\u001b[1;32m----> 1\u001b[1;33m \u001b[0mtest_als\u001b[0m\u001b[1;33m(\u001b[0m\u001b[1;33m)\u001b[0m\u001b[1;33m\u001b[0m\u001b[1;33m\u001b[0m\u001b[0m\n\u001b[0m",
            "\u001b[1;31mNameError\u001b[0m: name 'test_als' is not defined"
          ]
        }
      ]
    },
    {
      "cell_type": "markdown",
      "metadata": {
        "pycharm": {},
        "id": "jj2MNybABLA3",
        "colab_type": "text"
      },
      "source": [
        "Как мы видим _ранг_ возвращаемой алгоритмом натрицы тождественно равна $k$ до $k \\sim 35$, после чего значение стабилизуется.\n",
        "\n",
        "Также, видим что  $max_{i,j \\in E} |X_{i,j}-A_{i,j}|$ - максимальный модуль разности $(>Var(X_{i,j}-A_{i,j}\\ \\ where\\ \\ i,j \\in E))$, в начале имеет большое значение $\\sim 3$, но быстро стабилизируется в нуле. Можно считать, что $\\min_X rank(X) = min_k (max\\_distance_k \\sim 0)$. \n",
        "\n",
        "Для матриц из теста это $\\sim 8$ или $9$.\n",
        "\n"
      ]
    },
    {
      "cell_type": "markdown",
      "metadata": {
        "pycharm": {
          "name": "#%% md\n"
        },
        "id": "T3T9d51nBLA4",
        "colab_type": "text"
      },
      "source": [
        "# Convex relaxation\n",
        "**Ядерная форма**\n",
        "\n",
        "Идея следующая - давайте будем минимизировать не ранк матрицы, а ей ядерную норму.\n",
        "\n",
        "Если мы приведем матрицу в ядерную форму, то она будет выглядеть следующим образом\n",
        "\n",
        "$ x = U S V^* = \\sum_{i=0}^{n-1} s_i u_i v_i^*$\n",
        "\n",
        "где $S = diag(s_i)_i$ это диагональная матрица сингулярных значений.\n",
        "\n",
        "$ s_0 \\geq \\ldots s_{r-1} >  0 \\space and \\space\n",
        "            \\forall i \\geq r, s_i=0 $\n",
        "            \n",
        "$where \\space r=rank(x)$\n"
      ]
    },
    {
      "cell_type": "markdown",
      "metadata": {
        "pycharm": {
          "metadata": false,
          "name": "#%% md\n"
        },
        "id": "ckMFGJ3CBLA6",
        "colab_type": "text"
      },
      "source": [
        "**Ядерная норма**\n",
        "\n",
        "${\\displaystyle \\|A\\|_{*}=\\operatorname {trace} \\left({\\sqrt {A^{*}A}}\\right)=\\sum _{i=1}^{\\min\\{m,n\\}}\\sigma _{i}(A),}$\n",
        "\n",
        "$\\sqrt {A^{*}A}$ - положительная полуопределённая матрица B, т.ч. $BB = AA^*$\n",
        "\n",
        "Ядерная норма является выпуклой (вниз) оболочкой $rank(x)$ и соответственно $min$\n",
        "ядерная формы будет совпадать с $min(rank)$\n"
      ]
    },
    {
      "cell_type": "code",
      "metadata": {
        "id": "XJPA9B4wBQ8C",
        "colab_type": "code",
        "colab": {}
      },
      "source": [
        "from cvxpy import *\n",
        "import numpy as np\n",
        "\n",
        "\n",
        "def floor_singular_values(X, decimals):\n",
        "    U, sigma, V = np.linalg.svd(X)\n",
        "    sigma = np.diag(sigma.round(decimals))\n",
        "    return np.linalg.multi_dot([U, sigma, V.conjugate()])\n",
        "\n",
        "\n",
        "def nuclear_norm_minimalization(A, mask, value_protection_coefficient=100, decimals=3):\n",
        "    \"\"\"\n",
        "    Convex relaxation via Nuclear Norm Minimization [Candès and Recht approach]\n",
        "    ---------------------------------------------------------------------\n",
        "    |   A : m x n array,                                                |\n",
        "    |       matrix to complete                                          |\n",
        "    |   mask : m x n array,                                             |\n",
        "    |       matrix with entries zero (if missing) or one (if present)   |\n",
        "    |   value_protection_coefficient : significance of sum_squares of   |\n",
        "    |       multiply(mask, X - A), shows how much constraints enforced  |\n",
        "    |   decimals : to which decimal place to floor singular values      |\n",
        "    ---------------------------------------------------------------------\n",
        "    \"\"\"\n",
        "    X = Variable(shape=A.shape)\n",
        "    objective = Minimize(norm(X, \"nuc\") + value_protection_coefficient * sum_squares(multiply(mask, X - A)))\n",
        "    problem = Problem(objective, [])\n",
        "    problem.solve(solver=SCS)\n",
        "    return floor_singular_values(X.value, decimals)\n",
        "\n",
        "def e():\n",
        "    return 'e'\n"
      ],
      "execution_count": 0,
      "outputs": []
    },
    {
      "cell_type": "code",
      "metadata": {
        "pycharm": {
          "metadata": false,
          "name": "#%%\n",
          "is_executing": false
        },
        "id": "CmxnztHYBLA7",
        "colab_type": "code",
        "outputId": "2f3ed435-f07c-4026-ebe2-cffc4880a9ea",
        "colab": {
          "base_uri": "https://localhost:8080/",
          "height": 553
        }
      },
      "source": [
        "def compare_methods():\n",
        "    results = [[]]\n",
        "    N=35\n",
        "    M=35\n",
        "    sample_count = 3\n",
        "    \n",
        "    decimals = np.arange(1, 8)\n",
        "    ranks = []\n",
        "    for decim in decimals:\n",
        "\n",
        "      result = []\n",
        "      for i in range(sample_count):\n",
        "        A, mask = create_case(N, M, est=120)\n",
        "        result.append(np.linalg.matrix_rank(nuclear_norm_minimalization(A, mask, decimals=decim)))\n",
        "\n",
        "      ranks.append(np.min(result))\n",
        "    \n",
        "    plt.figure(figsize=(15, 9))\n",
        "    plt.title('Зависимость ранга от количества знаков после запятой при округлении.')\n",
        "    plt.plot(decimals, ranks)\n",
        "\n",
        "\n",
        "    \n",
        "compare_methods()\n",
        "        "
      ],
      "execution_count": 0,
      "outputs": [
        {
          "output_type": "display_data",
          "data": {
            "image/png": "[encoded data removed]",
            "text/plain": [
              "<Figure size 1080x648 with 1 Axes>"
            ]
          },
          "metadata": {
            "tags": []
          }
        }
      ]
    },
    {
      "cell_type": "code",
      "metadata": {
        "id": "DKwvQwEdVs0U",
        "colab_type": "code",
        "outputId": "c37e2d45-7be6-46a0-ca61-f38909770680",
        "colab": {
          "base_uri": "https://localhost:8080/",
          "height": 573
        }
      },
      "source": [
        "def svt_solve(A, mask, tau=None, delta=None, epsilon=1e-2, max_iterations=1000):\n",
        "    Y = np.zeros_like(A)\n",
        "\n",
        "    if not tau:\n",
        "        tau = 5 * np.sum(A.shape) / 2\n",
        "    if not delta:\n",
        "        delta = 1.2 * np.prod(A.shape) / np.sum(mask)\n",
        "\n",
        "    for _ in range(max_iterations):\n",
        "\n",
        "        U, S, V = np.linalg.svd(Y, full_matrices=False)\n",
        "        S = np.maximum(S - tau, 0)\n",
        "\n",
        "        X = np.linalg.multi_dot([U, np.diag(S), V])\n",
        "        Y += delta * mask * (A - X)\n",
        "\n",
        "        recon_error = np.linalg.norm(mask * (X - A)) / np.linalg.norm(mask * A)\n",
        "        if _ % 1 == 0:\n",
        "          pass\n",
        "            # print(\"Iteration: %i; Rel error: %.4f\" % (_ + 1, recon_error))\n",
        "        if recon_error < epsilon:\n",
        "            break\n",
        "\n",
        "    return X\n",
        "\n",
        "    \n",
        "\n",
        "def compare_methods():\n",
        "    results = [[]]\n",
        "    N=10\n",
        "    M=10\n",
        "    sample_count = 10\n",
        "    \n",
        "    decimals = np.arange(1, 15)\n",
        "    ranks = []\n",
        "    for decim in decimals:\n",
        "\n",
        "      result = []\n",
        "      for i in range(sample_count):\n",
        "        A, mask = create_case(N, M, est=35)\n",
        "        result.append(np.linalg.matrix_rank(svt_solve(A, mask, epsilon=1/(10**decim))))\n",
        "\n",
        "      ranks.append(np.mean(result))\n",
        "    \n",
        "    plt.figure(figsize=(15, 9))\n",
        "    plt.title('Зависимость ранга от величины ошибки')\n",
        "    plt.plot(decimals, ranks)\n",
        "\n",
        "    \n",
        "compare_methods()"
      ],
      "execution_count": 0,
      "outputs": [
        {
          "output_type": "display_data",
          "data": {
            "image/png": "[encoded data removed]",
            "text/plain": [
              "<Figure size 1080x648 with 1 Axes>"
            ]
          },
          "metadata": {
            "tags": []
          }
        }
      ]
    },
    {
      "cell_type": "code",
      "metadata": {
        "id": "CnqcfZtK9yka",
        "colab_type": "code",
        "colab": {}
      },
      "source": [
        ""
      ],
      "execution_count": 0,
      "outputs": []
    },
    {
      "cell_type": "code",
      "metadata": {
        "id": "3gSPg_g3cceR",
        "colab_type": "code",
        "colab": {}
      },
      "source": [
        "def compare_methods():\n",
        "    results = [[]]\n",
        "    N=10\n",
        "    M=10\n",
        "    sample_count = 10\n",
        "    \n",
        "    decimals = np.arange(1, 15)\n",
        "    ranks = []\n",
        "    for decim in decimals:\n",
        "\n",
        "      result = []\n",
        "      for i in range(sample_count):\n",
        "        A, mask = create_case(N, M, est=35)\n",
        "        result.append(np.linalg.matrix_rank(svt_solve(A, mask, delta=1/(10**decim))))\n",
        "\n",
        "      ranks.append(np.mean(result))\n",
        "    \n",
        "    plt.figure(figsize=(15, 9))\n",
        "    plt.title('Зависимость ранга от величины ошибки')\n",
        "    plt.plot(decimals, ranks)\n",
        "\n",
        "    \n",
        "compare_methods()"
      ],
      "execution_count": 0,
      "outputs": []
    },
    {
      "cell_type": "code",
      "metadata": {
        "id": "sVmtC9Kv-ceQ",
        "colab_type": "code",
        "outputId": "6f875c1b-1e74-498c-d1bf-018fa89f3027",
        "colab": {
          "base_uri": "https://localhost:8080/",
          "height": 1000
        }
      },
      "source": [
        "def floor_singular_values(X, tau, decimals):\n",
        "    U, sigma, V = np.linalg.svd(X)\n",
        "    sigma = np.maximum(sigma - tau, 0)\n",
        "    sigma = np.diag(sigma.round(decimals))\n",
        "    return np.linalg.multi_dot([U, sigma, V.conjugate()])\n",
        "\n",
        "def apgl(A, mask, max_iterations=1000, epsilon=1e-2):\n",
        "    t_k = 1\n",
        "    t_k_minus_one = t_k\n",
        "    tau = np.linalg.norm(A) / 1000000\n",
        "\n",
        "    X = A\n",
        "    Y = A\n",
        "    X_minus_1 = X\n",
        "    for i in range(max_iterations):\n",
        "        Z = X + (t_k_minus_one - 1) / t_k * (X - X_minus_1)\n",
        "        Y = Z + (mask * (A - Z))\n",
        "        t_k_minus_one = t_k\n",
        "        t_k = 0.5 * (1 + (1 + 4 * t_k * t_k) ** 0.5)\n",
        "       \n",
        "        X_minus_1 = np.copy(X)\n",
        "        X = floor_singular_values(Y, tau, 1)\n",
        "       \n",
        "        # print(np.linalg.norm(X - X_minus_1) / max([np.linalg.norm(X), 1]))\n",
        "        if np.linalg.norm(X - X_minus_1) / max([np.linalg.norm(X), 1]) < epsilon:\n",
        "          print('Reached epsilon on {} iteration'.format(i))\n",
        "          return X\n",
        "\n",
        "    return X\n",
        "\n",
        "def compare_methods():\n",
        "    results = [[]]\n",
        "    N=10\n",
        "    M=10\n",
        "    sample_count = 10\n",
        "    \n",
        "    decimals = np.arange(3, 15)\n",
        "    ranks = []\n",
        "    for decim in decimals:\n",
        "\n",
        "      result = []\n",
        "      for i in range(sample_count):\n",
        "        A, mask = create_case(N, M, est=35)\n",
        "        X = apgl(A, mask, epsilon=1/(10**decim))\n",
        "        result.append(np.linalg.matrix_rank(X))\n",
        "\n",
        "      ranks.append(np.mean(result))\n",
        "    \n",
        "    plt.figure(figsize=(15, 9))\n",
        "    plt.title('Зависимость ранга от величины ошибки')\n",
        "    plt.plot(decimals, ranks)\n",
        "\n",
        "    \n",
        "compare_methods()\n",
        "    "
      ],
      "execution_count": 17,
      "outputs": [
        {
          "output_type": "stream",
          "text": [
            "Reached epsilon on 3 iteration\n",
            "Reached epsilon on 3 iteration\n",
            "Reached epsilon on 3 iteration\n",
            "Reached epsilon on 3 iteration\n",
            "Reached epsilon on 2 iteration\n",
            "Reached epsilon on 3 iteration\n",
            "Reached epsilon on 3 iteration\n",
            "Reached epsilon on 3 iteration\n",
            "Reached epsilon on 3 iteration\n",
            "Reached epsilon on 3 iteration\n",
            "Reached epsilon on 5 iteration\n",
            "Reached epsilon on 6 iteration\n",
            "Reached epsilon on 5 iteration\n",
            "Reached epsilon on 10 iteration\n",
            "Reached epsilon on 5 iteration\n",
            "Reached epsilon on 7 iteration\n",
            "Reached epsilon on 6 iteration\n",
            "Reached epsilon on 6 iteration\n",
            "Reached epsilon on 7 iteration\n",
            "Reached epsilon on 6 iteration\n",
            "Reached epsilon on 14 iteration\n",
            "Reached epsilon on 12 iteration\n",
            "Reached epsilon on 11 iteration\n",
            "Reached epsilon on 13 iteration\n",
            "Reached epsilon on 11 iteration\n",
            "Reached epsilon on 9 iteration\n",
            "Reached epsilon on 15 iteration\n",
            "Reached epsilon on 14 iteration\n",
            "Reached epsilon on 14 iteration\n",
            "Reached epsilon on 9 iteration\n",
            "Reached epsilon on 21 iteration\n",
            "Reached epsilon on 17 iteration\n",
            "Reached epsilon on 18 iteration\n",
            "Reached epsilon on 24 iteration\n",
            "Reached epsilon on 17 iteration\n",
            "Reached epsilon on 21 iteration\n",
            "Reached epsilon on 24 iteration\n",
            "Reached epsilon on 17 iteration\n",
            "Reached epsilon on 13 iteration\n",
            "Reached epsilon on 17 iteration\n",
            "Reached epsilon on 35 iteration\n",
            "Reached epsilon on 31 iteration\n",
            "Reached epsilon on 19 iteration\n",
            "Reached epsilon on 24 iteration\n",
            "Reached epsilon on 38 iteration\n",
            "Reached epsilon on 19 iteration\n",
            "Reached epsilon on 21 iteration\n",
            "Reached epsilon on 23 iteration\n",
            "Reached epsilon on 21 iteration\n",
            "Reached epsilon on 25 iteration\n",
            "Reached epsilon on 46 iteration\n",
            "Reached epsilon on 35 iteration\n",
            "Reached epsilon on 38 iteration\n",
            "Reached epsilon on 66 iteration\n",
            "Reached epsilon on 36 iteration\n",
            "Reached epsilon on 72 iteration\n",
            "Reached epsilon on 30 iteration\n",
            "Reached epsilon on 38 iteration\n",
            "Reached epsilon on 51 iteration\n",
            "Reached epsilon on 46 iteration\n",
            "Reached epsilon on 107 iteration\n",
            "Reached epsilon on 106 iteration\n",
            "Reached epsilon on 111 iteration\n",
            "Reached epsilon on 153 iteration\n",
            "Reached epsilon on 68 iteration\n",
            "Reached epsilon on 65 iteration\n",
            "Reached epsilon on 76 iteration\n",
            "Reached epsilon on 67 iteration\n",
            "Reached epsilon on 110 iteration\n",
            "Reached epsilon on 134 iteration\n",
            "Reached epsilon on 179 iteration\n",
            "Reached epsilon on 197 iteration\n",
            "Reached epsilon on 159 iteration\n",
            "Reached epsilon on 188 iteration\n",
            "Reached epsilon on 161 iteration\n",
            "Reached epsilon on 411 iteration\n",
            "Reached epsilon on 218 iteration\n",
            "Reached epsilon on 206 iteration\n",
            "Reached epsilon on 192 iteration\n",
            "Reached epsilon on 273 iteration\n",
            "Reached epsilon on 328 iteration\n",
            "Reached epsilon on 507 iteration\n",
            "Reached epsilon on 581 iteration\n",
            "Reached epsilon on 310 iteration\n",
            "Reached epsilon on 191 iteration\n",
            "Reached epsilon on 412 iteration\n",
            "Reached epsilon on 300 iteration\n",
            "Reached epsilon on 463 iteration\n",
            "Reached epsilon on 364 iteration\n",
            "Reached epsilon on 296 iteration\n",
            "Reached epsilon on 793 iteration\n",
            "Reached epsilon on 787 iteration\n",
            "Reached epsilon on 892 iteration\n",
            "Reached epsilon on 921 iteration\n",
            "Reached epsilon on 710 iteration\n",
            "Reached epsilon on 684 iteration\n",
            "Reached epsilon on 827 iteration\n"
          ],
          "name": "stdout"
        },
        {
          "output_type": "display_data",
          "data": {
            "image/png": "[encoded data removed]",
            "text/plain": [
              "<Figure size 1080x648 with 1 Axes>"
            ]
          },
          "metadata": {
            "tags": []
          }
        }
      ]
    },
    {
      "cell_type": "code",
      "metadata": {
        "id": "UsE_tlx5CLy5",
        "colab_type": "code",
        "outputId": "07b99060-d6a7-416c-c9f8-de028a85b6a0",
        "colab": {
          "base_uri": "https://localhost:8080/",
          "height": 67
        }
      },
      "source": [
        ""
      ],
      "execution_count": 0,
      "outputs": [
        {
          "output_type": "stream",
          "text": [
            "[[5. 0. 0.]\n",
            " [0. 5. 0.]\n",
            " [0. 0. 5.]]\n"
          ],
          "name": "stdout"
        }
      ]
    },
    {
      "cell_type": "code",
      "metadata": {
        "id": "pHuScDSpA-uN",
        "colab_type": "code",
        "colab": {}
      },
      "source": [
        ""
      ],
      "execution_count": 0,
      "outputs": []
    }
  ]
}